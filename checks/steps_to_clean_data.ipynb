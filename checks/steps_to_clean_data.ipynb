{
 "cells": [
  {
   "cell_type": "markdown",
   "metadata": {},
   "source": [
    "https://www.youtube.com/watch?v=bDhvCp3_lYw"
   ]
  },
  {
   "cell_type": "code",
   "execution_count": null,
   "metadata": {},
   "outputs": [],
   "source": [
    "# drop duplicate rows and save to df\n",
    "df = df.drop_duplicates()"
   ]
  },
  {
   "cell_type": "code",
   "execution_count": null,
   "metadata": {},
   "outputs": [],
   "source": [
    "# drop useless columns\n",
    "df.drop(columns='col_name', inplace=True)"
   ]
  },
  {
   "cell_type": "code",
   "execution_count": null,
   "metadata": {},
   "outputs": [],
   "source": [
    "# trim values from left or right or both sides\n",
    "# by default, it removes white space\n",
    "\n",
    "# '...139/1' -> '39'\n",
    "df['col_name'] = df['col_name'].str.strip('123._/') # removes values that's in the string arg\n",
    "\n",
    "df['col_name'] = df['col_name'].str.lstrip('...') # removes '...' on left side\n",
    "df['col_name'] = df['col_name'].str.rstrip()\n",
    "df"
   ]
  },
  {
   "cell_type": "code",
   "execution_count": null,
   "metadata": {},
   "outputs": [],
   "source": [
    "# replace everything apart from anything that matches the regex with nothing\n",
    "df['col_name'] = df['col_name'].str.replace('[^a-zA-Z0-9]', '')\n",
    "\n",
    "# replace NaN with ''\n",
    "df['col_name'] = df['col_name'].str.replace('NaN', '')"
   ]
  },
  {
   "cell_type": "code",
   "execution_count": null,
   "metadata": {},
   "outputs": [],
   "source": [
    "# convert values in the column to string\n",
    "df['col_name'] = df['col_name'].apply(lambda x: str(x))\n",
    "\n",
    "# '123456789' -> '123-456-789'\n",
    "df['col_name'] = df['col_name'].apply(lambda x: x[0:3] + '-' + x[3:6] + '-' + x[6:10])"
   ]
  },
  {
   "cell_type": "code",
   "execution_count": null,
   "metadata": {},
   "outputs": [],
   "source": [
    "# split column on the comma, look for 1 comma from left to right\n",
    "\n",
    "# '12 Rooky Lane, Selly, Birmingham, B1 9SQ' -> '12 Rooky Lane' + Selly, Birmingham, B1 9SQ' \n",
    "df['col_name'].str.split(',', 1, expand=True)\n",
    "\n",
    "df[['Street Address', 'Town', 'City', 'Post Code']] = df['col_name'].str.split(',', 3, expand=True)\n",
    "df"
   ]
  },
  {
   "cell_type": "code",
   "execution_count": null,
   "metadata": {},
   "outputs": [],
   "source": [
    "# fill NaN with blank\n",
    "df.fillna('')\n",
    "\n",
    "# replace N/a with blank across the entire df\n",
    "df = df.replace('N/a', '')"
   ]
  },
  {
   "cell_type": "code",
   "execution_count": null,
   "metadata": {},
   "outputs": [],
   "source": [
    "# remove row that contains 'Yes' in 'Do_Not_Contact_column'\n",
    "for row in df.index:\n",
    "    val = df.loc[row, 'Do_Not_Contact_column'] # look at the value under this column\n",
    "    if val == 'Yes':\n",
    "        df.drop(row, inplace=True)\n",
    "\n",
    "# https://sparkbyexamples.com/pandas/pandas-delete-rows-based-on-column-value/\n",
    "# Remove rows\n",
    "df2 = df[df.Fee >= 24000]"
   ]
  },
  {
   "cell_type": "code",
   "execution_count": null,
   "metadata": {},
   "outputs": [],
   "source": [
    "# another way to drop null values\n",
    "df.dropna(subset='Phone_Num', inplace=True)"
   ]
  },
  {
   "cell_type": "code",
   "execution_count": null,
   "metadata": {},
   "outputs": [],
   "source": [
    "# reset index\n",
    "df.reset_index(drop=True)"
   ]
  }
 ],
 "metadata": {
  "language_info": {
   "name": "python"
  }
 },
 "nbformat": 4,
 "nbformat_minor": 2
}
