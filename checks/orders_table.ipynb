{
 "cells": [
  {
   "cell_type": "code",
   "execution_count": 41,
   "metadata": {},
   "outputs": [],
   "source": [
    "import sys\n",
    "import os\n",
    " \n",
    "# Getting the name of the directory where the this file is present.\n",
    "current = os.path.dirname(os.path.realpath('orders_table'))\n",
    " \n",
    "# Getting the parent directory name where the current directory is present.\n",
    "parent = os.path.dirname(current)\n",
    " \n",
    "# Adding the parent directory to the sys.path.\n",
    "sys.path.append(parent)\n",
    "\n",
    "from data_extraction import DataExtractor\n",
    "from data_cleaning import DataCleaning\n",
    "from database_utils import DatabaseConnector"
   ]
  },
  {
   "cell_type": "code",
   "execution_count": 42,
   "metadata": {},
   "outputs": [
    {
     "name": "stdout",
     "output_type": "stream",
     "text": [
      "Initialise the new instance of DatabaseConnector.\n",
      "        level_0   index                             date_uuid first_name  \\\n",
      "0             0       0  9476f17e-5d6a-4117-874d-9cdb38ca1fa6       None   \n",
      "1             1       1  0423a395-a04d-4e4a-bd0f-d237cbd5a295       None   \n",
      "2             2       2  65187294-bb16-4519-adc0-787bbe423970       None   \n",
      "3             3       3  579e21f7-13cb-436b-83ad-33687a4eb337       None   \n",
      "4             4       4  00ab86c3-2039-4674-b9c1-adbcbbf525bd       None   \n",
      "...         ...     ...                                   ...        ...   \n",
      "120118   110549  110548  f0e8fff6-9998-4661-954b-0e258e09d33c       None   \n",
      "120119    82164   82164  1c80940a-d186-4ba9-9daa-8abd1aceae32       None   \n",
      "120120    97599   97599  58598aca-049c-418e-8e39-46327634a7f1     Sharon   \n",
      "120121   106591  106591  3a76f661-0707-4fbc-9862-f21d3249f581       None   \n",
      "120122   118806  118804  98fdc8b3-f619-4471-86b4-f44c26880166       None   \n",
      "\n",
      "       last_name                             user_uuid       card_number  \\\n",
      "0           None  93caf182-e4e9-4c6e-bebb-60a1a9dcf9b8    30060773296197   \n",
      "1           None  8fe96c3a-d62d-4eb5-b313-cf12d9126a49   349624180933183   \n",
      "2           None  fc461df4-b919-48b2-909e-55c95a03fe6b  3529023891650490   \n",
      "3           None  6104719f-ef14-4b09-bf04-fb0c4620acb0   213142929492281   \n",
      "4           None  9523a6d3-b2dd-4670-a51a-36aebc89f579      502067329974   \n",
      "...          ...                                   ...               ...   \n",
      "120118      None  95c74b0a-d495-4359-b1c0-e2da511e8403      575421945446   \n",
      "120119      None  5d6fa6fe-e583-4baf-8bbb-d1dd6e2b551f  4971858637664481   \n",
      "120120    Miller  48b7f1fc-db13-4611-ad8e-3dac0b759488  4971858637664481   \n",
      "120121      None  51c0b538-7ded-4697-8e84-9f7aa13f9112  4971858637664481   \n",
      "120122      None  e74907ca-1a4a-476c-a3ca-6b898b0964c2  4971858637664481   \n",
      "\n",
      "          store_code product_code   1  product_quantity  \n",
      "0        BL-8387506C  R7-3126933h NaN                 3  \n",
      "1       WEB-1388012W  C2-7287916l NaN                 2  \n",
      "2        CH-01D85C8D  S7-1175877v NaN                 2  \n",
      "3        CL-C183BE4B  D8-8421505n NaN                 2  \n",
      "4        SO-B5B9CB3B  B6-2596063a NaN                 2  \n",
      "...              ...          ...  ..               ...  \n",
      "120118   KA-FA7ED3B8  C9-6827622o NaN                 4  \n",
      "120119   WA-A41DA979  I0-1146408B NaN                 1  \n",
      "120120  WEB-1388012W  A4-5443400b NaN                 4  \n",
      "120121   SO-6D328417  E9-2782979e NaN                 4  \n",
      "120122   SO-6D328417  m0-0281207X NaN                 3  \n",
      "\n",
      "[120123 rows x 11 columns]\n",
      "Initialise the new instance of DatabaseConnector.\n"
     ]
    }
   ],
   "source": [
    "print(DataExtractor().read_rds_table('orders_table')) # ['legacy_store_details', 'legacy_users', 'orders_table']\n",
    "orders_table = DataExtractor().read_rds_table('orders_table')"
   ]
  },
  {
   "cell_type": "code",
   "execution_count": 43,
   "metadata": {},
   "outputs": [
    {
     "name": "stdout",
     "output_type": "stream",
     "text": [
      "['level_0', 'index', 'date_uuid', 'first_name', 'last_name', 'user_uuid', 'card_number', 'store_code', 'product_code', '1', 'product_quantity']\n"
     ]
    }
   ],
   "source": [
    "print(orders_table.columns.tolist())\n",
    "# ['level_0', 'index', 'date_uuid', 'first_name', 'last_name', 'user_uuid',\n",
    "# 'card_number', 'store_code', 'product_code', '1', 'product_quantity']"
   ]
  },
  {
   "cell_type": "code",
   "execution_count": 44,
   "metadata": {},
   "outputs": [],
   "source": [
    "orders_table = orders_table.drop_duplicates()\n",
    "orders_table = DataCleaning.remove_null_values(orders_table)"
   ]
  },
  {
   "cell_type": "code",
   "execution_count": 45,
   "metadata": {},
   "outputs": [],
   "source": [
    "orders_table['level_0'].sort_values()\n",
    "del orders_table['level_0']"
   ]
  },
  {
   "cell_type": "code",
   "execution_count": 46,
   "metadata": {},
   "outputs": [
    {
     "data": {
      "text/plain": [
       "0              0\n",
       "1              1\n",
       "2              2\n",
       "3              3\n",
       "4              4\n",
       "           ...  \n",
       "119924    120118\n",
       "119925    120119\n",
       "119926    120120\n",
       "119927    120121\n",
       "119928    120122\n",
       "Name: index, Length: 120123, dtype: int64"
      ]
     },
     "execution_count": 46,
     "metadata": {},
     "output_type": "execute_result"
    }
   ],
   "source": [
    "orders_table['index'].sort_values()"
   ]
  },
  {
   "cell_type": "code",
   "execution_count": 47,
   "metadata": {},
   "outputs": [
    {
     "data": {
      "text/plain": [
       "array(['9476f17e-5d6a-4117-874d-9cdb38ca1fa6',\n",
       "       '0423a395-a04d-4e4a-bd0f-d237cbd5a295',\n",
       "       '65187294-bb16-4519-adc0-787bbe423970', ...,\n",
       "       '58598aca-049c-418e-8e39-46327634a7f1',\n",
       "       '3a76f661-0707-4fbc-9862-f21d3249f581',\n",
       "       '98fdc8b3-f619-4471-86b4-f44c26880166'], dtype=object)"
      ]
     },
     "execution_count": 47,
     "metadata": {},
     "output_type": "execute_result"
    }
   ],
   "source": [
    "orders_table['date_uuid'].sort_values()\n",
    "orders_table['date_uuid'].unique()"
   ]
  },
  {
   "cell_type": "code",
   "execution_count": 48,
   "metadata": {},
   "outputs": [
    {
     "data": {
      "text/plain": [
       "array(['', 'Brett', 'Marion', ..., 'Mason', 'Mirella', 'Eckhard'],\n",
       "      dtype=object)"
      ]
     },
     "execution_count": 48,
     "metadata": {},
     "output_type": "execute_result"
    }
   ],
   "source": [
    "orders_table['first_name'].sort_values()\n",
    "orders_table['first_name'].unique()"
   ]
  },
  {
   "cell_type": "code",
   "execution_count": 49,
   "metadata": {},
   "outputs": [
    {
     "data": {
      "text/plain": [
       "array(['', 'Welch', 'Stokes', ..., 'Rios', 'Jacobs', 'Escobar'],\n",
       "      dtype=object)"
      ]
     },
     "execution_count": 49,
     "metadata": {},
     "output_type": "execute_result"
    }
   ],
   "source": [
    "orders_table['last_name'].sort_values()\n",
    "orders_table['last_name'].unique()"
   ]
  },
  {
   "cell_type": "code",
   "execution_count": 50,
   "metadata": {},
   "outputs": [
    {
     "data": {
      "text/plain": [
       "array(['93caf182-e4e9-4c6e-bebb-60a1a9dcf9b8',\n",
       "       '8fe96c3a-d62d-4eb5-b313-cf12d9126a49',\n",
       "       'fc461df4-b919-48b2-909e-55c95a03fe6b', ...,\n",
       "       'd1831d2d-bc1a-4d29-8b77-d5d1c2d9d941',\n",
       "       '95c74b0a-d495-4359-b1c0-e2da511e8403',\n",
       "       '507a4435-1901-451e-830e-d59bb2818a24'], dtype=object)"
      ]
     },
     "execution_count": 50,
     "metadata": {},
     "output_type": "execute_result"
    }
   ],
   "source": [
    "orders_table['user_uuid'].sort_values()\n",
    "orders_table['user_uuid'].unique()"
   ]
  },
  {
   "cell_type": "code",
   "execution_count": 51,
   "metadata": {},
   "outputs": [
    {
     "data": {
      "text/plain": [
       "0                        0\n",
       "62094                    0\n",
       "62088                    0\n",
       "62087                    0\n",
       "62084                    0\n",
       "                ...       \n",
       "92606     6599996173639480\n",
       "14991     6599996173639480\n",
       "94746     6599996173639480\n",
       "107023    6599996173639480\n",
       "21134     6599996173639480\n",
       "Name: card_number, Length: 120123, dtype: int64"
      ]
     },
     "execution_count": 51,
     "metadata": {},
     "output_type": "execute_result"
    }
   ],
   "source": [
    "orders_table['card_number'].sort_values()\n",
    "orders_table['card_number'].unique()\n",
    "orders_table['card_number'] = DataCleaning.remove_integers_of_undesired_length(orders_table, 'card_number', 16)\n",
    "orders_table['card_number'].unique()\n",
    "orders_table['card_number'].sort_values()"
   ]
  },
  {
   "cell_type": "code",
   "execution_count": 52,
   "metadata": {},
   "outputs": [
    {
     "data": {
      "text/plain": [
       "array(['BL-8387506C', 'WEB-1388012W', 'CH-01D85C8D', 'CL-C183BE4B',\n",
       "       'SO-B5B9CB3B', 'AR-0C5116E4', 'OB-FDC2CF69', 'BE-6F48991F',\n",
       "       'PO-E636D18D', 'GR-18E26E0C', 'HA-B6953307', 'CH-7C155EA7',\n",
       "       'CL-7BF16887', 'LA-DE474D42', 'AR-ADA61B10', 'HI-F2784D72',\n",
       "       'LA-347073D1', 'HE-A49D28DF', 'BA-8BA66AA0', 'PE-78E2B585',\n",
       "       'CH-6A561423', 'AL-9E1A5529', 'EH-91356030', 'BE-9A378A7F',\n",
       "       'PO-38790FAE', 'LO-C4AB23C1', 'KI-81D6FEBD', 'TH-D62B06B7',\n",
       "       'WE-31C8B335', 'BA-25629F8E', 'BA-41B2EB4B', 'RA-412FE889',\n",
       "       'TH-B6A0AB51', 'NE-2B35DCBD', 'FA-6A7ABBAD', 'EX-FA379F57',\n",
       "       'TH-142AE777', 'SU-5F78B30A', 'SU-B415327A', 'PO-3A1A12CD',\n",
       "       'AL-EE8984F0', 'LE-1E8CCAFA', 'LO-8E1CA9E3', 'KI-137ED849',\n",
       "       'WI-5CDC1053', 'PE-52B1E131', 'CH-DEF208AA', 'VE-93DA8430',\n",
       "       'CH-C9AB9518', 'CH-164A23FB', 'ME-6529390A', 'VI-B13ACF87',\n",
       "       'RA-2A22B217', 'NE-374D3983', 'CL-DA786EF6', 'BE-B069E157',\n",
       "       'SU-346D5CF2', 'WE-A6C131B0', 'LA-7A9AA65C', 'LA-6D1FE061',\n",
       "       'CH-E1344D81', 'KA-9D87BC15', 'BE-F9462A80', 'DE-12392F66',\n",
       "       'PF-D90B564A', 'GA-2252ED9A', 'OB-4B85CD4E', 'WE-0E145AF9',\n",
       "       'IN-157E1191', 'SC-ADA59883', 'LY-89B9F675', 'GA-846D92B4',\n",
       "       'SI-66F97423', 'BE-DAD46DCD', 'MI-20EE1BFA', 'SI-C489938D',\n",
       "       'WE-298C66F0', 'IN-827175EE', 'ME-9940FF73', 'RA-583F0CF9',\n",
       "       'HU-57B095A2', 'CH-C98AC168', 'ME-FB62E459', 'GR-84BD26D4',\n",
       "       'SE-09EAF854', 'BA-B4AED588', 'BU-44F16401', 'CH-6D105C69',\n",
       "       'HO-CE40B554', 'PE-60C328DB', 'GR-250FBD0C', 'AR-5E72668B',\n",
       "       'SI-ECD52CD9', 'WA-ED4B495E', 'JA-49A2D7F5', 'CA-70469742',\n",
       "       'BE-F4596696', 'PO-4AF8FC4D', 'MA-316BDC6E', 'LO-3DD01CA8',\n",
       "       'WA-A34BF06C', 'HA-10EEDC1D', 'EA-EC2DAADE', 'ST-119B11EA',\n",
       "       'EX-82831D93', 'CH-7638016B', 'RU-514020AC', 'ST-06E21C4A',\n",
       "       'LA-9F489A77', 'EP-E66BE479', 'HA-39A446E2', 'SU-203C8474',\n",
       "       'RU-9D16C525', 'PO-D4D326B4', 'BR-CACF7508', 'BA-91C512D2',\n",
       "       'CO-CB3D8C89', 'ZE-BBF02AEA', 'BA-898BDED3', 'NI-AB0FECD7',\n",
       "       'BA-3A37248A', 'IN-CC1993CF', 'AB-337AEBA7', 'PF-F95902BC',\n",
       "       'OB-B57D2016', 'GR-63F021A1', 'IN-C4060B7D', 'BL-190ABD7D',\n",
       "       'HE-8818F573', 'PE-040B15C3', 'HA-CCBCBF87', 'SE-68A67454',\n",
       "       'HI-BAD4DD1C', 'JE-3AF1D134', 'MA-20E6EB37', 'TH-B8F42840',\n",
       "       'RU-1994A94D', 'NE-01250B4B', 'BR-B7C294A7', 'AB-D5ABF437',\n",
       "       'GR-9049A708', 'PF-1D7B0646', 'LA-0E85631B', 'WE-DC3933D4',\n",
       "       'VE-EE7A1F48', 'AB-D665986A', 'HE-84E62AB9', 'BA-B0933185',\n",
       "       'CH-6ADEBD99', 'IR-C8DAAB31', 'SU-163D2755', 'GA-DA8EEA4A',\n",
       "       'RE-FAF57EF7', 'CH-86DFF57D', 'WA-58021322', 'EH-DB65F258',\n",
       "       'CR-792AA8BB', 'HA-41E65DD9', 'WA-FF3389AF', 'GA-CAD01AC2',\n",
       "       'ST-4D2E1D55', 'GR-30543E4C', 'BE-C5C7E600', 'CH-619E036C',\n",
       "       'BE-09F94471', 'IN-E47115F0', 'HE-2908B53E', 'LO-F33AC948',\n",
       "       'GR-61A03D84', 'PO-99029708', 'AR-E8FDEB2B', 'KI-107167CD',\n",
       "       'DE-585399CF', 'LE-63F3D33B', 'HO-85D2BA5B', 'BE-18074576',\n",
       "       'RE-75445D60', 'LU-439557A9', 'BU-19BB50F6', 'ST-3C93FBF2',\n",
       "       'VI-68DB8362', 'BL-04FD6EF3', 'HO-16A376B0', 'FR-91D11D69',\n",
       "       'EH-BB9AECF5', 'OS-4BF93680', 'BO-17E7B6CE', 'BE-8C0CF738',\n",
       "       'LE-14B7245B', 'BU-5B54171E', 'HA-974352FE', 'PF-BADFAEDC',\n",
       "       'ST-10F19C97', 'PE-F9CF2B74', 'WE-C5C34475', 'EP-6E0918AF',\n",
       "       'CH-7771B336', 'BR-0DCD7EE0', 'BU-834779E4', 'GA-D570038A',\n",
       "       'RA-5F41ED85', 'CO-9A576872', 'LA-6AAC1779', 'HA-1BAE9B71',\n",
       "       'BR-09D8DE69', 'CL-DA5365DF', 'KI-967D1E81', 'SI-3E5F4AD9',\n",
       "       'LE-84C48B9F', 'NE-E50207AD', 'ST-D14ED89D', 'AB-917B715E',\n",
       "       'SC-FFDD5A57', 'HE-E39F4BC6', 'RU-9F1136B4', 'EX-A01E0020',\n",
       "       'KA-653E783F', 'BU-3020DF6C', 'WE-54DE559C', 'ME-31958763',\n",
       "       'WE-605028E4', 'ME-B363FDAA', 'CH-FBB32B94', 'AB-4ABD6D51',\n",
       "       'HI-BED70096', 'ST-229D997E', 'AB-FCFAB1A9', 'LY-D37CAF45',\n",
       "       'WA-0A35C594', 'KI-A53AF10A', 'GR-664E0CB3', 'AS-373D10B2',\n",
       "       'DA-D9DC550B', 'ST-6590521C', 'PF-4FB7B30C', 'AB-316DE4BA',\n",
       "       'GA-400CC35C', 'ST-32641EC1', 'SO-6D328417', 'GA-5957F561',\n",
       "       'RH-AB6C3782', 'SE-596EAA50', 'WE-1DE82CEE', 'CO-D819CC5E',\n",
       "       'RH-80D609C9', 'WI-1EA140B1', 'EA-7965E06D', 'GI-718674C0',\n",
       "       'CR-6B885B5E', 'WA-34998EB8', 'SE-531CB6EE', 'CO-308FF73B',\n",
       "       'KI-DD9663C2', 'LO-D54E72B5', 'GA-BA05E5A8', 'HA-859769AF',\n",
       "       'LO-74DBE049', 'VI-682A89FF', 'MI-D57825AA', 'ST-1DAA85E6',\n",
       "       'EX-B3F5CFB1', 'TR-4E1AF636', 'WE-5B0343D9', 'BU-550D8325',\n",
       "       'LA-A12C3D8F', 'NE-D1A20330', 'SU-95D20AE9', 'LA-9B0D9277',\n",
       "       'AL-FB5FAE9B', 'KO-7E39C57F', 'VI-BCBBC21A', 'VE-1050754E',\n",
       "       'SO-6D546AD2', 'HI-F27C7A84', 'RU-9DF20437', 'PO-47A01287',\n",
       "       'PE-360EA944', 'RH-F3E200B7', 'BE-2DE7E6FD', 'LA-0772C7B9',\n",
       "       'SE-C44E6951', 'GR-911A7DFC', 'BU-251A0E5A', 'EX-2E8DF595',\n",
       "       'LA-D78C5F3F', 'BU-89E4DEC5', 'EH-945D8F25', 'AR-2D9D5CD3',\n",
       "       'BL-D6CF153F', 'CO-473A9FBB', 'BR-FB62A5BA', 'FA-0A1B14FB',\n",
       "       'VI-43751A71', 'LO-AB6B6DF8', 'BE-BC3E4F9A', 'SC-4928418D',\n",
       "       'FR-C04291C3', 'BE-7C142381', 'RU-DA6DCDA7', 'VE-38B76FFE',\n",
       "       'OB-7A4A9012', 'EA-BE6D0CF8', 'ST-76D54DCB', 'RA-C25EE56A',\n",
       "       'SU-ABF4F9A1', 'MA-F0E23355', 'LO-ED733BA2', 'SE-8DF6557B',\n",
       "       'BU-0FB4CF87', 'SE-E21DDC72', 'WE-69BFEA46', 'HI-FD1137FA',\n",
       "       'CH-7E92F288', 'SE-F428A035', 'NE-6046DE65', 'LA-F0652295',\n",
       "       'ST-8D1A43F1', 'LA-55069B69', 'AR-EE57502B', 'AR-CB0D95D8',\n",
       "       'PO-EB96293A', 'AL-34ABF27F', 'CO-3971C69C', 'KO-975B107F',\n",
       "       'BU-B5B6F452', 'TR-8CD56339', 'NE-C83B8B22', 'BR-BC499EDD',\n",
       "       'EP-105C3FB5', 'OS-70B2CD28', 'CL-0FB1065C', 'AS-D26C759B',\n",
       "       'EA-77ECA680', 'CH-42F9D8D8', 'RU-798BB83A', 'HI-D59BBEEC',\n",
       "       'CH-A44B48E6', 'BU-FB96B095', 'WE-55D0E7FF', 'AR-F938FB8E',\n",
       "       'WE-41EFA2D6', 'HI-AED3C6CD', 'EA-6B5D31D8', 'LA-C1E143DE',\n",
       "       'LE-1438EF01', 'FR-A86E698A', 'LA-2B59A825', 'RU-F0666E4B',\n",
       "       'BE-028A2748', 'LA-BC0455E1', 'DE-504A9BFE', 'CO-EAEDFFF3',\n",
       "       'SC-8724E112', 'VI-8EBC5471', 'LY-120579E6', 'KI-78096E8C',\n",
       "       'EX-B1AACC7D', 'PE-8BF5FE22', 'WA-905645E6', 'AB-D04AA29C',\n",
       "       'WA-A41DA979', 'CL-5C7C3198', 'FR-0FA7D921', 'EH-DB8676C1',\n",
       "       'AB-30E0C17F', 'SU-40E3321A', 'WA-F4396DF8', 'EA-EB4F2E1B',\n",
       "       'CL-361E75EC', 'BU-90D457E0', 'TR-658557DD', 'BU-784362E0',\n",
       "       'BE-7D0EF647', 'BA-99F54BD0', 'LO-EC0C9189', 'CH-01DEFD68',\n",
       "       'SU-EFC31DF9', 'OS-EE0CC48A', 'KA-249967D9', 'SU-0B4C9A5F',\n",
       "       'WI-1BEEB9CA', 'NE-1D8B1D0C', 'WE-B278D336', 'ST-B754F535',\n",
       "       'RH-450F1A1B', 'EA-24B31935', 'WI-56B02C82', 'CH-DCCDE05E',\n",
       "       'NI-D757F308', 'GA-190B3F6D', 'BR-662EC74C', 'EX-41AC3888',\n",
       "       'AR-D3FDDD1D', 'WE-FF0F6BA4', 'LY-FC3B1157', 'EX-A3F2DB7C',\n",
       "       'ME-D9ECD7DF', 'HI-7B43DCA9', 'AR-2284FD32', 'AL-91D3A03C',\n",
       "       'WA-0E6E657C', 'WI-293A03C1', 'BA-C0C7FDBE', 'GR-6D292223',\n",
       "       'WI-37616D0E', 'LA-F1042C48', 'HI-9B97EE4E', 'GR-16C93F4D',\n",
       "       'PE-086FA5EE', 'HO-978C59DC', 'LA-77BE2ADA', 'LY-4C3D5D6C',\n",
       "       'RU-BFF916C5', 'PF-F54C3265', 'TH-D94B2E76', 'BL-9A86B74D',\n",
       "       'EX-2C210EBF', 'VE-B81F9500', 'KI-AF3A421C', 'EX-9ED6711E',\n",
       "       'BU-79F72A64', 'HI-EEA7AE62', 'CH-99475026', 'LY-73842BE8',\n",
       "       'SC-4AE031F4', 'IN-8A98027C', 'EX-B4EE25D8', 'RU-AE12736B',\n",
       "       'BU-3FC2A064', 'CH-8A74708A', 'RU-C603E990', 'DA-ACC520AE',\n",
       "       'MO-E8CFF8FE', 'NE-EE2A190D', 'MA-0D207813', 'VI-9A93E3E2',\n",
       "       'ZE-EA9C82AA', 'HA-FC4E6AFF', 'KA-FA7ED3B8', 'RE-4D07B5F2',\n",
       "       'ME-C1AF27C3'], dtype=object)"
      ]
     },
     "execution_count": 52,
     "metadata": {},
     "output_type": "execute_result"
    }
   ],
   "source": [
    "orders_table['store_code'].sort_values()\n",
    "orders_table['store_code'].unique()"
   ]
  },
  {
   "cell_type": "code",
   "execution_count": 53,
   "metadata": {},
   "outputs": [
    {
     "data": {
      "text/plain": [
       "array(['R7-3126933h', 'C2-7287916l', 'S7-1175877v', ..., 'i6-2851854w',\n",
       "       'F8-5807429i', 'N4-404353y'], dtype=object)"
      ]
     },
     "execution_count": 53,
     "metadata": {},
     "output_type": "execute_result"
    }
   ],
   "source": [
    "orders_table['product_code'].sort_values()\n",
    "orders_table['product_code'].unique()"
   ]
  },
  {
   "cell_type": "code",
   "execution_count": 54,
   "metadata": {},
   "outputs": [],
   "source": [
    "orders_table['1'].sort_values()\n",
    "orders_table['1'].unique()\n",
    "# orders_table = orders_table.drop('1', axis=1)\n",
    "del orders_table['1']"
   ]
  },
  {
   "cell_type": "code",
   "execution_count": 55,
   "metadata": {},
   "outputs": [
    {
     "data": {
      "text/plain": [
       "array([ 3,  2,  4,  5,  8,  1,  6, 12, 15, 14,  7, 10, 13,  9, 11])"
      ]
     },
     "execution_count": 55,
     "metadata": {},
     "output_type": "execute_result"
    }
   ],
   "source": [
    "orders_table['product_quantity'].sort_values()\n",
    "orders_table['product_quantity'].unique()"
   ]
  },
  {
   "cell_type": "code",
   "execution_count": 56,
   "metadata": {},
   "outputs": [],
   "source": [
    "del orders_table['index']\n",
    "del orders_table['first_name']\n",
    "del orders_table['last_name']"
   ]
  },
  {
   "cell_type": "code",
   "execution_count": 57,
   "metadata": {},
   "outputs": [
    {
     "data": {
      "text/html": [
       "<div>\n",
       "<style scoped>\n",
       "    .dataframe tbody tr th:only-of-type {\n",
       "        vertical-align: middle;\n",
       "    }\n",
       "\n",
       "    .dataframe tbody tr th {\n",
       "        vertical-align: top;\n",
       "    }\n",
       "\n",
       "    .dataframe thead th {\n",
       "        text-align: right;\n",
       "    }\n",
       "</style>\n",
       "<table border=\"1\" class=\"dataframe\">\n",
       "  <thead>\n",
       "    <tr style=\"text-align: right;\">\n",
       "      <th></th>\n",
       "      <th>date_uuid</th>\n",
       "      <th>user_uuid</th>\n",
       "      <th>card_number</th>\n",
       "      <th>store_code</th>\n",
       "      <th>product_code</th>\n",
       "      <th>product_quantity</th>\n",
       "    </tr>\n",
       "  </thead>\n",
       "  <tbody>\n",
       "    <tr>\n",
       "      <th>0</th>\n",
       "      <td>9476f17e-5d6a-4117-874d-9cdb38ca1fa6</td>\n",
       "      <td>93caf182-e4e9-4c6e-bebb-60a1a9dcf9b8</td>\n",
       "      <td>0</td>\n",
       "      <td>BL-8387506C</td>\n",
       "      <td>R7-3126933h</td>\n",
       "      <td>3</td>\n",
       "    </tr>\n",
       "    <tr>\n",
       "      <th>1</th>\n",
       "      <td>0423a395-a04d-4e4a-bd0f-d237cbd5a295</td>\n",
       "      <td>8fe96c3a-d62d-4eb5-b313-cf12d9126a49</td>\n",
       "      <td>0</td>\n",
       "      <td>WEB-1388012W</td>\n",
       "      <td>C2-7287916l</td>\n",
       "      <td>2</td>\n",
       "    </tr>\n",
       "    <tr>\n",
       "      <th>2</th>\n",
       "      <td>65187294-bb16-4519-adc0-787bbe423970</td>\n",
       "      <td>fc461df4-b919-48b2-909e-55c95a03fe6b</td>\n",
       "      <td>3529023891650490</td>\n",
       "      <td>CH-01D85C8D</td>\n",
       "      <td>S7-1175877v</td>\n",
       "      <td>2</td>\n",
       "    </tr>\n",
       "    <tr>\n",
       "      <th>3</th>\n",
       "      <td>579e21f7-13cb-436b-83ad-33687a4eb337</td>\n",
       "      <td>6104719f-ef14-4b09-bf04-fb0c4620acb0</td>\n",
       "      <td>0</td>\n",
       "      <td>CL-C183BE4B</td>\n",
       "      <td>D8-8421505n</td>\n",
       "      <td>2</td>\n",
       "    </tr>\n",
       "    <tr>\n",
       "      <th>4</th>\n",
       "      <td>00ab86c3-2039-4674-b9c1-adbcbbf525bd</td>\n",
       "      <td>9523a6d3-b2dd-4670-a51a-36aebc89f579</td>\n",
       "      <td>0</td>\n",
       "      <td>SO-B5B9CB3B</td>\n",
       "      <td>B6-2596063a</td>\n",
       "      <td>2</td>\n",
       "    </tr>\n",
       "    <tr>\n",
       "      <th>...</th>\n",
       "      <td>...</td>\n",
       "      <td>...</td>\n",
       "      <td>...</td>\n",
       "      <td>...</td>\n",
       "      <td>...</td>\n",
       "      <td>...</td>\n",
       "    </tr>\n",
       "    <tr>\n",
       "      <th>120118</th>\n",
       "      <td>f0e8fff6-9998-4661-954b-0e258e09d33c</td>\n",
       "      <td>95c74b0a-d495-4359-b1c0-e2da511e8403</td>\n",
       "      <td>0</td>\n",
       "      <td>KA-FA7ED3B8</td>\n",
       "      <td>C9-6827622o</td>\n",
       "      <td>4</td>\n",
       "    </tr>\n",
       "    <tr>\n",
       "      <th>120119</th>\n",
       "      <td>1c80940a-d186-4ba9-9daa-8abd1aceae32</td>\n",
       "      <td>5d6fa6fe-e583-4baf-8bbb-d1dd6e2b551f</td>\n",
       "      <td>4971858637664481</td>\n",
       "      <td>WA-A41DA979</td>\n",
       "      <td>I0-1146408B</td>\n",
       "      <td>1</td>\n",
       "    </tr>\n",
       "    <tr>\n",
       "      <th>120120</th>\n",
       "      <td>58598aca-049c-418e-8e39-46327634a7f1</td>\n",
       "      <td>48b7f1fc-db13-4611-ad8e-3dac0b759488</td>\n",
       "      <td>4971858637664481</td>\n",
       "      <td>WEB-1388012W</td>\n",
       "      <td>A4-5443400b</td>\n",
       "      <td>4</td>\n",
       "    </tr>\n",
       "    <tr>\n",
       "      <th>120121</th>\n",
       "      <td>3a76f661-0707-4fbc-9862-f21d3249f581</td>\n",
       "      <td>51c0b538-7ded-4697-8e84-9f7aa13f9112</td>\n",
       "      <td>4971858637664481</td>\n",
       "      <td>SO-6D328417</td>\n",
       "      <td>E9-2782979e</td>\n",
       "      <td>4</td>\n",
       "    </tr>\n",
       "    <tr>\n",
       "      <th>120122</th>\n",
       "      <td>98fdc8b3-f619-4471-86b4-f44c26880166</td>\n",
       "      <td>e74907ca-1a4a-476c-a3ca-6b898b0964c2</td>\n",
       "      <td>4971858637664481</td>\n",
       "      <td>SO-6D328417</td>\n",
       "      <td>m0-0281207X</td>\n",
       "      <td>3</td>\n",
       "    </tr>\n",
       "  </tbody>\n",
       "</table>\n",
       "<p>120123 rows × 6 columns</p>\n",
       "</div>"
      ],
      "text/plain": [
       "                                   date_uuid  \\\n",
       "0       9476f17e-5d6a-4117-874d-9cdb38ca1fa6   \n",
       "1       0423a395-a04d-4e4a-bd0f-d237cbd5a295   \n",
       "2       65187294-bb16-4519-adc0-787bbe423970   \n",
       "3       579e21f7-13cb-436b-83ad-33687a4eb337   \n",
       "4       00ab86c3-2039-4674-b9c1-adbcbbf525bd   \n",
       "...                                      ...   \n",
       "120118  f0e8fff6-9998-4661-954b-0e258e09d33c   \n",
       "120119  1c80940a-d186-4ba9-9daa-8abd1aceae32   \n",
       "120120  58598aca-049c-418e-8e39-46327634a7f1   \n",
       "120121  3a76f661-0707-4fbc-9862-f21d3249f581   \n",
       "120122  98fdc8b3-f619-4471-86b4-f44c26880166   \n",
       "\n",
       "                                   user_uuid       card_number    store_code  \\\n",
       "0       93caf182-e4e9-4c6e-bebb-60a1a9dcf9b8                 0   BL-8387506C   \n",
       "1       8fe96c3a-d62d-4eb5-b313-cf12d9126a49                 0  WEB-1388012W   \n",
       "2       fc461df4-b919-48b2-909e-55c95a03fe6b  3529023891650490   CH-01D85C8D   \n",
       "3       6104719f-ef14-4b09-bf04-fb0c4620acb0                 0   CL-C183BE4B   \n",
       "4       9523a6d3-b2dd-4670-a51a-36aebc89f579                 0   SO-B5B9CB3B   \n",
       "...                                      ...               ...           ...   \n",
       "120118  95c74b0a-d495-4359-b1c0-e2da511e8403                 0   KA-FA7ED3B8   \n",
       "120119  5d6fa6fe-e583-4baf-8bbb-d1dd6e2b551f  4971858637664481   WA-A41DA979   \n",
       "120120  48b7f1fc-db13-4611-ad8e-3dac0b759488  4971858637664481  WEB-1388012W   \n",
       "120121  51c0b538-7ded-4697-8e84-9f7aa13f9112  4971858637664481   SO-6D328417   \n",
       "120122  e74907ca-1a4a-476c-a3ca-6b898b0964c2  4971858637664481   SO-6D328417   \n",
       "\n",
       "       product_code  product_quantity  \n",
       "0       R7-3126933h                 3  \n",
       "1       C2-7287916l                 2  \n",
       "2       S7-1175877v                 2  \n",
       "3       D8-8421505n                 2  \n",
       "4       B6-2596063a                 2  \n",
       "...             ...               ...  \n",
       "120118  C9-6827622o                 4  \n",
       "120119  I0-1146408B                 1  \n",
       "120120  A4-5443400b                 4  \n",
       "120121  E9-2782979e                 4  \n",
       "120122  m0-0281207X                 3  \n",
       "\n",
       "[120123 rows x 6 columns]"
      ]
     },
     "execution_count": 57,
     "metadata": {},
     "output_type": "execute_result"
    }
   ],
   "source": [
    "orders_table"
   ]
  },
  {
   "cell_type": "code",
   "execution_count": 58,
   "metadata": {},
   "outputs": [
    {
     "name": "stdout",
     "output_type": "stream",
     "text": [
      "Initialise the new instance of DatabaseConnector.\n"
     ]
    }
   ],
   "source": [
    "DatabaseConnector().upload_to_db(orders_table, 'orders_table')"
   ]
  }
 ],
 "metadata": {
  "kernelspec": {
   "display_name": "pandas_df",
   "language": "python",
   "name": "python3"
  },
  "language_info": {
   "codemirror_mode": {
    "name": "ipython",
    "version": 3
   },
   "file_extension": ".py",
   "mimetype": "text/x-python",
   "name": "python",
   "nbconvert_exporter": "python",
   "pygments_lexer": "ipython3",
   "version": "3.10.13"
  }
 },
 "nbformat": 4,
 "nbformat_minor": 2
}
