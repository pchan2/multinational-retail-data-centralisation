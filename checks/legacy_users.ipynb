{
 "cells": [
  {
   "cell_type": "code",
   "execution_count": 1,
   "metadata": {},
   "outputs": [],
   "source": [
    "import sys\n",
    "import os\n",
    " \n",
    "# Getting the name of the directory where the this file is present.\n",
    "current = os.path.dirname(os.path.realpath('legacy_users'))\n",
    " \n",
    "# Getting the parent directory name where the current directory is present.\n",
    "parent = os.path.dirname(current)\n",
    " \n",
    "# Adding the parent directory to the sys.path.\n",
    "sys.path.append(parent)\n",
    "\n",
    "from data_extraction import DataExtractor\n",
    "from data_cleaning import DataCleaning\n",
    "from database_utils import DatabaseConnector"
   ]
  },
  {
   "cell_type": "code",
   "execution_count": 2,
   "metadata": {},
   "outputs": [
    {
     "name": "stdout",
     "output_type": "stream",
     "text": [
      "Initialise the new instance of DatabaseConnector.\n"
     ]
    },
    {
     "data": {
      "text/html": [
       "<div>\n",
       "<style scoped>\n",
       "    .dataframe tbody tr th:only-of-type {\n",
       "        vertical-align: middle;\n",
       "    }\n",
       "\n",
       "    .dataframe tbody tr th {\n",
       "        vertical-align: top;\n",
       "    }\n",
       "\n",
       "    .dataframe thead th {\n",
       "        text-align: right;\n",
       "    }\n",
       "</style>\n",
       "<table border=\"1\" class=\"dataframe\">\n",
       "  <thead>\n",
       "    <tr style=\"text-align: right;\">\n",
       "      <th></th>\n",
       "      <th>index</th>\n",
       "      <th>first_name</th>\n",
       "      <th>last_name</th>\n",
       "      <th>date_of_birth</th>\n",
       "      <th>company</th>\n",
       "      <th>email_address</th>\n",
       "      <th>address</th>\n",
       "      <th>country</th>\n",
       "      <th>country_code</th>\n",
       "      <th>phone_number</th>\n",
       "      <th>join_date</th>\n",
       "      <th>user_uuid</th>\n",
       "    </tr>\n",
       "  </thead>\n",
       "  <tbody>\n",
       "    <tr>\n",
       "      <th>0</th>\n",
       "      <td>0</td>\n",
       "      <td>Sigfried</td>\n",
       "      <td>Noack</td>\n",
       "      <td>1990-09-30</td>\n",
       "      <td>Heydrich Junitz KG</td>\n",
       "      <td>rudi79@winkler.de</td>\n",
       "      <td>Zimmerstr. 1/0\\n59015 Gießen</td>\n",
       "      <td>Germany</td>\n",
       "      <td>DE</td>\n",
       "      <td>+49(0) 047905356</td>\n",
       "      <td>2018-10-10</td>\n",
       "      <td>93caf182-e4e9-4c6e-bebb-60a1a9dcf9b8</td>\n",
       "    </tr>\n",
       "    <tr>\n",
       "      <th>1</th>\n",
       "      <td>1</td>\n",
       "      <td>Guy</td>\n",
       "      <td>Allen</td>\n",
       "      <td>1940-12-01</td>\n",
       "      <td>Fox Ltd</td>\n",
       "      <td>rhodesclifford@henderson.com</td>\n",
       "      <td>Studio 22a\\nLynne terrace\\nMcCarthymouth\\nTF0 9GH</td>\n",
       "      <td>United Kingdom</td>\n",
       "      <td>GB</td>\n",
       "      <td>(0161) 496 0674</td>\n",
       "      <td>2001-12-20</td>\n",
       "      <td>8fe96c3a-d62d-4eb5-b313-cf12d9126a49</td>\n",
       "    </tr>\n",
       "    <tr>\n",
       "      <th>2</th>\n",
       "      <td>2</td>\n",
       "      <td>Harry</td>\n",
       "      <td>Lawrence</td>\n",
       "      <td>1995-08-02</td>\n",
       "      <td>Johnson, Jones and Harris</td>\n",
       "      <td>glen98@bryant-marshall.co.uk</td>\n",
       "      <td>92 Ann drive\\nJoanborough\\nSK0 6LR</td>\n",
       "      <td>United Kingdom</td>\n",
       "      <td>GB</td>\n",
       "      <td>+44(0)121 4960340</td>\n",
       "      <td>2016-12-16</td>\n",
       "      <td>fc461df4-b919-48b2-909e-55c95a03fe6b</td>\n",
       "    </tr>\n",
       "    <tr>\n",
       "      <th>3</th>\n",
       "      <td>3</td>\n",
       "      <td>Darren</td>\n",
       "      <td>Hussain</td>\n",
       "      <td>1972-09-23</td>\n",
       "      <td>Wheeler LLC</td>\n",
       "      <td>daniellebryan@thompson.org</td>\n",
       "      <td>19 Robinson meadow\\nNew Tracy\\nW22 2QG</td>\n",
       "      <td>United Kingdom</td>\n",
       "      <td>GB</td>\n",
       "      <td>(0306) 999 0871</td>\n",
       "      <td>2004-02-23</td>\n",
       "      <td>6104719f-ef14-4b09-bf04-fb0c4620acb0</td>\n",
       "    </tr>\n",
       "    <tr>\n",
       "      <th>4</th>\n",
       "      <td>4</td>\n",
       "      <td>Garry</td>\n",
       "      <td>Stone</td>\n",
       "      <td>1952-12-20</td>\n",
       "      <td>Warner Inc</td>\n",
       "      <td>billy14@long-warren.com</td>\n",
       "      <td>3 White pass\\nHunterborough\\nNN96 4UE</td>\n",
       "      <td>United Kingdom</td>\n",
       "      <td>GB</td>\n",
       "      <td>0121 496 0225</td>\n",
       "      <td>2006-09-01</td>\n",
       "      <td>9523a6d3-b2dd-4670-a51a-36aebc89f579</td>\n",
       "    </tr>\n",
       "    <tr>\n",
       "      <th>...</th>\n",
       "      <td>...</td>\n",
       "      <td>...</td>\n",
       "      <td>...</td>\n",
       "      <td>...</td>\n",
       "      <td>...</td>\n",
       "      <td>...</td>\n",
       "      <td>...</td>\n",
       "      <td>...</td>\n",
       "      <td>...</td>\n",
       "      <td>...</td>\n",
       "      <td>...</td>\n",
       "      <td>...</td>\n",
       "    </tr>\n",
       "    <tr>\n",
       "      <th>15315</th>\n",
       "      <td>14913</td>\n",
       "      <td>Stephen</td>\n",
       "      <td>Jenkins</td>\n",
       "      <td>1943-08-09</td>\n",
       "      <td>Thornton, Carroll and Newman</td>\n",
       "      <td>s.jenkins@smith.com</td>\n",
       "      <td>Studio 41I\\nJones lodge\\nOliviaborough\\nE8 3DU</td>\n",
       "      <td>United Kingdom</td>\n",
       "      <td>GB</td>\n",
       "      <td>+44(0)292018946</td>\n",
       "      <td>2016-04-15</td>\n",
       "      <td>2bd3a12f-a92d-4cdd-b99c-fc70572db302</td>\n",
       "    </tr>\n",
       "    <tr>\n",
       "      <th>15316</th>\n",
       "      <td>14994</td>\n",
       "      <td>Stephen</td>\n",
       "      <td>Smith</td>\n",
       "      <td>1948-08-20</td>\n",
       "      <td>Robinson-Harris</td>\n",
       "      <td>s.smith@smith.com</td>\n",
       "      <td>530 Young parkway\\nMillsfurt\\nL4G 7NX</td>\n",
       "      <td>United Kingdom</td>\n",
       "      <td>GB</td>\n",
       "      <td>+44(0)1144960977</td>\n",
       "      <td>2020-07-20</td>\n",
       "      <td>d234c04b-c07c-46a5-a902-526f91478ecc</td>\n",
       "    </tr>\n",
       "    <tr>\n",
       "      <th>15317</th>\n",
       "      <td>15012</td>\n",
       "      <td>Stephen</td>\n",
       "      <td>Losekann</td>\n",
       "      <td>1940-10-09</td>\n",
       "      <td>Rosenow</td>\n",
       "      <td>s.losekann@smith.com</td>\n",
       "      <td>Viviane-Fritsch-Straße 3/5\\n15064 Bad Liebenwerda</td>\n",
       "      <td>Germany</td>\n",
       "      <td>DE</td>\n",
       "      <td>02984 08192</td>\n",
       "      <td>2021-03-07</td>\n",
       "      <td>1a0a8b7b-7c17-42d8-a946-8a85d5495651</td>\n",
       "    </tr>\n",
       "    <tr>\n",
       "      <th>15318</th>\n",
       "      <td>15269</td>\n",
       "      <td>Stephen</td>\n",
       "      <td>Rivera</td>\n",
       "      <td>1952-06-04</td>\n",
       "      <td>Taylor, Fry and Jones</td>\n",
       "      <td>s.rivera@smith.com</td>\n",
       "      <td>660 Ross Falls Suite 357\\nAnthonymouth, MA 09610</td>\n",
       "      <td>United States</td>\n",
       "      <td>US</td>\n",
       "      <td>239.711.3836</td>\n",
       "      <td>2011-01-03</td>\n",
       "      <td>187fe06e-bd5f-4381-af2f-d7ac37ca7572</td>\n",
       "    </tr>\n",
       "    <tr>\n",
       "      <th>15319</th>\n",
       "      <td>1249</td>\n",
       "      <td>Stephen</td>\n",
       "      <td>Duncan</td>\n",
       "      <td>1994-03-27</td>\n",
       "      <td>Phillips, Brown and Powell</td>\n",
       "      <td>s.duncan@smith.com</td>\n",
       "      <td>Studio 4\\nHancock road\\nPhillipsview\\nST1X 3XB</td>\n",
       "      <td>United Kingdom</td>\n",
       "      <td>GB</td>\n",
       "      <td>+44(0)1314960870</td>\n",
       "      <td>2015-08-28</td>\n",
       "      <td>0589bbca-1d58-4b1f-9d0a-04ed4c57aaa1</td>\n",
       "    </tr>\n",
       "  </tbody>\n",
       "</table>\n",
       "<p>15320 rows × 12 columns</p>\n",
       "</div>"
      ],
      "text/plain": [
       "       index first_name last_name date_of_birth                       company  \\\n",
       "0          0   Sigfried     Noack    1990-09-30            Heydrich Junitz KG   \n",
       "1          1        Guy     Allen    1940-12-01                       Fox Ltd   \n",
       "2          2      Harry  Lawrence    1995-08-02     Johnson, Jones and Harris   \n",
       "3          3     Darren   Hussain    1972-09-23                   Wheeler LLC   \n",
       "4          4      Garry     Stone    1952-12-20                    Warner Inc   \n",
       "...      ...        ...       ...           ...                           ...   \n",
       "15315  14913    Stephen   Jenkins    1943-08-09  Thornton, Carroll and Newman   \n",
       "15316  14994    Stephen     Smith    1948-08-20               Robinson-Harris   \n",
       "15317  15012    Stephen  Losekann    1940-10-09                       Rosenow   \n",
       "15318  15269    Stephen    Rivera    1952-06-04         Taylor, Fry and Jones   \n",
       "15319   1249    Stephen    Duncan    1994-03-27    Phillips, Brown and Powell   \n",
       "\n",
       "                      email_address  \\\n",
       "0                 rudi79@winkler.de   \n",
       "1      rhodesclifford@henderson.com   \n",
       "2      glen98@bryant-marshall.co.uk   \n",
       "3        daniellebryan@thompson.org   \n",
       "4           billy14@long-warren.com   \n",
       "...                             ...   \n",
       "15315           s.jenkins@smith.com   \n",
       "15316             s.smith@smith.com   \n",
       "15317          s.losekann@smith.com   \n",
       "15318            s.rivera@smith.com   \n",
       "15319            s.duncan@smith.com   \n",
       "\n",
       "                                                 address         country  \\\n",
       "0                           Zimmerstr. 1/0\\n59015 Gießen         Germany   \n",
       "1      Studio 22a\\nLynne terrace\\nMcCarthymouth\\nTF0 9GH  United Kingdom   \n",
       "2                     92 Ann drive\\nJoanborough\\nSK0 6LR  United Kingdom   \n",
       "3                 19 Robinson meadow\\nNew Tracy\\nW22 2QG  United Kingdom   \n",
       "4                  3 White pass\\nHunterborough\\nNN96 4UE  United Kingdom   \n",
       "...                                                  ...             ...   \n",
       "15315     Studio 41I\\nJones lodge\\nOliviaborough\\nE8 3DU  United Kingdom   \n",
       "15316              530 Young parkway\\nMillsfurt\\nL4G 7NX  United Kingdom   \n",
       "15317  Viviane-Fritsch-Straße 3/5\\n15064 Bad Liebenwerda         Germany   \n",
       "15318   660 Ross Falls Suite 357\\nAnthonymouth, MA 09610   United States   \n",
       "15319     Studio 4\\nHancock road\\nPhillipsview\\nST1X 3XB  United Kingdom   \n",
       "\n",
       "      country_code       phone_number   join_date  \\\n",
       "0               DE   +49(0) 047905356  2018-10-10   \n",
       "1               GB    (0161) 496 0674  2001-12-20   \n",
       "2               GB  +44(0)121 4960340  2016-12-16   \n",
       "3               GB    (0306) 999 0871  2004-02-23   \n",
       "4               GB      0121 496 0225  2006-09-01   \n",
       "...            ...                ...         ...   \n",
       "15315           GB    +44(0)292018946  2016-04-15   \n",
       "15316           GB   +44(0)1144960977  2020-07-20   \n",
       "15317           DE        02984 08192  2021-03-07   \n",
       "15318           US       239.711.3836  2011-01-03   \n",
       "15319           GB   +44(0)1314960870  2015-08-28   \n",
       "\n",
       "                                  user_uuid  \n",
       "0      93caf182-e4e9-4c6e-bebb-60a1a9dcf9b8  \n",
       "1      8fe96c3a-d62d-4eb5-b313-cf12d9126a49  \n",
       "2      fc461df4-b919-48b2-909e-55c95a03fe6b  \n",
       "3      6104719f-ef14-4b09-bf04-fb0c4620acb0  \n",
       "4      9523a6d3-b2dd-4670-a51a-36aebc89f579  \n",
       "...                                     ...  \n",
       "15315  2bd3a12f-a92d-4cdd-b99c-fc70572db302  \n",
       "15316  d234c04b-c07c-46a5-a902-526f91478ecc  \n",
       "15317  1a0a8b7b-7c17-42d8-a946-8a85d5495651  \n",
       "15318  187fe06e-bd5f-4381-af2f-d7ac37ca7572  \n",
       "15319  0589bbca-1d58-4b1f-9d0a-04ed4c57aaa1  \n",
       "\n",
       "[15320 rows x 12 columns]"
      ]
     },
     "execution_count": 2,
     "metadata": {},
     "output_type": "execute_result"
    }
   ],
   "source": [
    "# print(DataExtractor().read_rds_table('legacy_users')) # ['legacy_store_details', 'legacy_users', 'orders_table']\n",
    "legacy_users = DataExtractor().read_rds_table('legacy_users')\n",
    "legacy_users"
   ]
  },
  {
   "cell_type": "code",
   "execution_count": 3,
   "metadata": {},
   "outputs": [
    {
     "name": "stdout",
     "output_type": "stream",
     "text": [
      "['index', 'first_name', 'last_name', 'date_of_birth', 'company', 'email_address', 'address', 'country', 'country_code', 'phone_number', 'join_date', 'user_uuid']\n"
     ]
    }
   ],
   "source": [
    "print(legacy_users.columns.tolist())\n",
    "# ['index', 'first_name', 'last_name', 'date_of_birth', 'company', 'email_address',\n",
    "# 'address', 'country', 'country_code', 'phone_number', 'join_date', 'user_uuid']]"
   ]
  },
  {
   "cell_type": "code",
   "execution_count": 4,
   "metadata": {},
   "outputs": [],
   "source": [
    "legacy_users = legacy_users.drop_duplicates()\n",
    "legacy_users = DataCleaning.remove_null_values(legacy_users)"
   ]
  },
  {
   "cell_type": "code",
   "execution_count": 5,
   "metadata": {},
   "outputs": [
    {
     "data": {
      "text/plain": [
       "10988         \n",
       "12092         \n",
       "2437          \n",
       "11761         \n",
       "2103          \n",
       "         ...  \n",
       "12387    Zoran\n",
       "9696      Änne\n",
       "2524      Änne\n",
       "9082      Änne\n",
       "13297     Änne\n",
       "Name: first_name, Length: 15320, dtype: object"
      ]
     },
     "execution_count": 5,
     "metadata": {},
     "output_type": "execute_result"
    }
   ],
   "source": [
    "legacy_users['first_name'].sort_values()"
   ]
  },
  {
   "cell_type": "code",
   "execution_count": 6,
   "metadata": {},
   "outputs": [
    {
     "data": {
      "text/plain": [
       "866                    \n",
       "11761                  \n",
       "4984                   \n",
       "10988                  \n",
       "11864                  \n",
       "              ...      \n",
       "2398     van der Dussen\n",
       "11272    van der Dussen\n",
       "13561    van der Dussen\n",
       "4729     van der Dussen\n",
       "14493    van der Dussen\n",
       "Name: last_name, Length: 15320, dtype: object"
      ]
     },
     "execution_count": 6,
     "metadata": {},
     "output_type": "execute_result"
    }
   ],
   "source": [
    "legacy_users['last_name'].sort_values()"
   ]
  },
  {
   "cell_type": "code",
   "execution_count": 7,
   "metadata": {},
   "outputs": [
    {
     "data": {
      "text/plain": [
       "2437               \n",
       "12177              \n",
       "1805               \n",
       "11443              \n",
       "2103               \n",
       "            ...    \n",
       "5915     2006-11-16\n",
       "4340     2006-11-18\n",
       "3890     2006-11-19\n",
       "5786     2006-11-20\n",
       "4816     2006-11-20\n",
       "Name: date_of_birth, Length: 15320, dtype: object"
      ]
     },
     "execution_count": 7,
     "metadata": {},
     "output_type": "execute_result"
    }
   ],
   "source": [
    "legacy_users['date_of_birth'] = DataCleaning.remove_non_datetime_values(legacy_users, 'date_of_birth')\n",
    "legacy_users['date_of_birth'] = DataCleaning.format_datetime_values(legacy_users, 'date_of_birth')\n",
    "legacy_users = DataCleaning.remove_null_values(legacy_users)\n",
    "legacy_users['date_of_birth'].sort_values()"
   ]
  },
  {
   "cell_type": "code",
   "execution_count": 8,
   "metadata": {},
   "outputs": [
    {
     "data": {
      "text/plain": [
       "10988                                  \n",
       "7737                                   \n",
       "1805                                   \n",
       "4984                                   \n",
       "6920                                   \n",
       "                      ...              \n",
       "13687    van der Dussen GmbH & Co. KGaA\n",
       "43               van der Dussen Karz KG\n",
       "9734          van der Dussen Scholtz KG\n",
       "11613           van der Dussen Stroh AG\n",
       "5250             van der Dussen Vogt AG\n",
       "Name: company, Length: 15320, dtype: object"
      ]
     },
     "execution_count": 8,
     "metadata": {},
     "output_type": "execute_result"
    }
   ],
   "source": [
    "legacy_users['company'].sort_values()\n",
    "# legacy_users['company'].unique()"
   ]
  },
  {
   "cell_type": "code",
   "execution_count": 9,
   "metadata": {},
   "outputs": [
    {
     "data": {
      "text/plain": [
       "7447                          \n",
       "2235                          \n",
       "13598                         \n",
       "1118                          \n",
       "1356                          \n",
       "                 ...          \n",
       "3088         zwilson@henry.com\n",
       "2011       zwood@lee-jones.org\n",
       "2853          zwood@slater.com\n",
       "2994     zwright@macdonald.com\n",
       "12791          zwulff@vogt.org\n",
       "Name: email_address, Length: 15320, dtype: object"
      ]
     },
     "execution_count": 9,
     "metadata": {},
     "output_type": "execute_result"
    }
   ],
   "source": [
    "legacy_users['email_address'].sort_values()\n",
    "legacy_users['email_address'] = DataCleaning.remove_invalid_emails(legacy_users, 'email_address')\n",
    "legacy_users['email_address'].sort_values()"
   ]
  },
  {
   "cell_type": "code",
   "execution_count": 10,
   "metadata": {},
   "outputs": [
    {
     "data": {
      "text/plain": [
       "1022                                                \n",
       "10013                                               \n",
       "2103                                                \n",
       "5307                                                \n",
       "7737                                                \n",
       "                            ...                     \n",
       "3161     van der Dussenring 3\\n40458 Bad Liebenwerda\n",
       "15147            van der Dussenstraße 7\\n03749 Waren\n",
       "4556             van der Dussenweg 5\\n38336 Mainburg\n",
       "4407     van der Dussenweg 58\\n42640 Bad Langensalza\n",
       "8814       Änne-Schmiedecke-Gasse 1\\n08944 Gadebusch\n",
       "Name: address, Length: 15320, dtype: object"
      ]
     },
     "execution_count": 10,
     "metadata": {},
     "output_type": "execute_result"
    }
   ],
   "source": [
    "legacy_users['address'].sort_values()"
   ]
  },
  {
   "cell_type": "code",
   "execution_count": 11,
   "metadata": {},
   "outputs": [
    {
     "data": {
      "text/plain": [
       "array(['Germany', 'United Kingdom', 'United States', ''], dtype=object)"
      ]
     },
     "execution_count": 11,
     "metadata": {},
     "output_type": "execute_result"
    }
   ],
   "source": [
    "legacy_users['country'] = DataCleaning.remove_non_countries(legacy_users, 'country')\n",
    "legacy_users['country'].unique()"
   ]
  },
  {
   "cell_type": "code",
   "execution_count": 12,
   "metadata": {},
   "outputs": [
    {
     "data": {
      "text/plain": [
       "array(['DE', 'GB', 'US', ''], dtype=object)"
      ]
     },
     "execution_count": 12,
     "metadata": {},
     "output_type": "execute_result"
    }
   ],
   "source": [
    "legacy_users['country_code'].unique()\n",
    "legacy_users['country_code'] = DataCleaning.remove_non_alpha_values(legacy_users, 'country_code')\n",
    "legacy_users['country_code'].unique()\n",
    "legacy_users.index[legacy_users['country_code'] == 'GGB'].to_list()\n",
    "legacy_users['country_code'] = DataCleaning.correct_gb_country_code(legacy_users, 'country_code')\n",
    "legacy_users['country_code'].unique()"
   ]
  },
  {
   "cell_type": "code",
   "execution_count": 13,
   "metadata": {},
   "outputs": [
    {
     "data": {
      "text/plain": [
       "0         +49(0) 047905356\n",
       "1          (0161) 496 0674\n",
       "2        +44(0)121 4960340\n",
       "3          (0306) 999 0871\n",
       "4            0121 496 0225\n",
       "               ...        \n",
       "15315      +44(0)292018946\n",
       "15316     +44(0)1144960977\n",
       "15317          02984 08192\n",
       "15318         239.711.3836\n",
       "15319     +44(0)1314960870\n",
       "Name: phone_number, Length: 15320, dtype: object"
      ]
     },
     "execution_count": 13,
     "metadata": {},
     "output_type": "execute_result"
    }
   ],
   "source": [
    "legacy_users['phone_number'].sort_values()\n",
    "legacy_users['phone_number'].unique()\n",
    "legacy_users['phone_number'] = DataCleaning.remove_alphanumerical_values(legacy_users, 'phone_number')\n",
    "legacy_users['phone_number']"
   ]
  },
  {
   "cell_type": "code",
   "execution_count": 14,
   "metadata": {},
   "outputs": [
    {
     "data": {
      "text/plain": [
       "11443              \n",
       "10013              \n",
       "10224              \n",
       "752                \n",
       "1046               \n",
       "            ...    \n",
       "4325     2022-11-17\n",
       "7565     2022-11-18\n",
       "11002    2022-11-18\n",
       "9816     2022-11-18\n",
       "14498    2022-11-19\n",
       "Name: join_date, Length: 15320, dtype: object"
      ]
     },
     "execution_count": 14,
     "metadata": {},
     "output_type": "execute_result"
    }
   ],
   "source": [
    "legacy_users['join_date'].sort_values()\n",
    "legacy_users['join_date'].unique()\n",
    "legacy_users['join_date'] = DataCleaning.remove_non_datetime_values(legacy_users, 'join_date')\n",
    "legacy_users['join_date'] = DataCleaning.format_datetime_values(legacy_users, 'join_date')\n",
    "legacy_users = DataCleaning.remove_null_values(legacy_users)\n",
    "legacy_users['join_date'].sort_values()"
   ]
  },
  {
   "cell_type": "code",
   "execution_count": 15,
   "metadata": {},
   "outputs": [
    {
     "data": {
      "text/plain": [
       "array(['93caf182-e4e9-4c6e-bebb-60a1a9dcf9b8',\n",
       "       '8fe96c3a-d62d-4eb5-b313-cf12d9126a49',\n",
       "       'fc461df4-b919-48b2-909e-55c95a03fe6b', ...,\n",
       "       '1a0a8b7b-7c17-42d8-a946-8a85d5495651',\n",
       "       '187fe06e-bd5f-4381-af2f-d7ac37ca7572',\n",
       "       '0589bbca-1d58-4b1f-9d0a-04ed4c57aaa1'], dtype=object)"
      ]
     },
     "execution_count": 15,
     "metadata": {},
     "output_type": "execute_result"
    }
   ],
   "source": [
    "legacy_users['user_uuid'].sort_values()\n",
    "legacy_users['user_uuid'].unique()"
   ]
  },
  {
   "cell_type": "code",
   "execution_count": 16,
   "metadata": {},
   "outputs": [],
   "source": [
    "del legacy_users['index']"
   ]
  },
  {
   "cell_type": "code",
   "execution_count": 17,
   "metadata": {},
   "outputs": [
    {
     "name": "stdout",
     "output_type": "stream",
     "text": [
      "Initialise the new instance of DatabaseConnector.\n"
     ]
    }
   ],
   "source": [
    "DatabaseConnector().upload_to_db(legacy_users, 'dim_users')"
   ]
  }
 ],
 "metadata": {
  "kernelspec": {
   "display_name": "pandas_df",
   "language": "python",
   "name": "python3"
  },
  "language_info": {
   "codemirror_mode": {
    "name": "ipython",
    "version": 3
   },
   "file_extension": ".py",
   "mimetype": "text/x-python",
   "name": "python",
   "nbconvert_exporter": "python",
   "pygments_lexer": "ipython3",
   "version": "3.10.13"
  }
 },
 "nbformat": 4,
 "nbformat_minor": 2
}
